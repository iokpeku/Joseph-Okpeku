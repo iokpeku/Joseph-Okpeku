{
 "cells": [
  {
   "cell_type": "markdown",
   "metadata": {},
   "source": [
    "# Week 3 Exercises\n",
    "\n",
    "### Strings\n",
    "\n",
    "1. Write a Python program to count the number of times a character appears in a string (hint a dict will be really useful here).\n",
    "\n",
    "2. Write a Python program to get a string made of the first 2 and the last 2 characters from a given string. If the string length is less than 2, return this instead of the empty string. \n",
    "\n",
    "3. Write a Python program to get a single string from two given strings, separated by a space and swap the first two characters of each string.\n",
    "> Sample String : 'abc', 'xyz' \n",
    "  Expected Result : 'xyc abz'\n",
    "    \n",
    "4. Write a Python function that takes a list of words and returns the length of the longest one.\n",
    "\n",
    "### Dicts\n",
    "\n",
    "1. Write a Python script to print a dictionary where the keys are numbers between 1 and 15 (both included) and the values are the square of the key. \n",
    "    \n",
    "> Result should follow this format: \n",
    "    {1: 1, 2: 4, 3: 9, 4: 16, 5: 25, 6: 36, .....}  \n",
    "    \n",
    "  \n",
    "2. Write a Python program to sum all the items in the dictionary you made above. \n",
    "\n",
    "3. Write a Python program to get the maximum and minimum value in a dictionary.\n",
    "\n",
    "> sample_dict = {'x':500, 'y':5874, 'z': 560}\n",
    "      \n",
    "      \n",
    "4. Create a program which takes input from the user - they should enter a name, followed by a phone number, an email address and a date of birth. Use a dictionary to store the information. Allow the user to keep adding names and information to the dictionary until they want to stop. Then ask them do they want to look up a person's information and disply it in a nicely printed output."
   ]
  },
  {
   "cell_type": "code",
   "execution_count": null,
   "metadata": {},
   "outputs": [],
   "source": [
    "SECTION A (STRINGS)"
   ]
  },
  {
   "cell_type": "code",
   "execution_count": null,
   "metadata": {},
   "outputs": [],
   "source": [
    "1."
   ]
  },
  {
   "cell_type": "code",
   "execution_count": 4,
   "metadata": {},
   "outputs": [],
   "source": [
    "char = \"Josephokpekuplobhdfoo\""
   ]
  },
  {
   "cell_type": "code",
   "execution_count": 5,
   "metadata": {},
   "outputs": [
    {
     "data": {
      "text/plain": [
       "5"
      ]
     },
     "execution_count": 5,
     "metadata": {},
     "output_type": "execute_result"
    }
   ],
   "source": [
    "char.count((\"o\"))"
   ]
  },
  {
   "cell_type": "code",
   "execution_count": null,
   "metadata": {},
   "outputs": [],
   "source": [
    "2"
   ]
  },
  {
   "cell_type": "code",
   "execution_count": 6,
   "metadata": {},
   "outputs": [],
   "source": [
    "char = \"Josephokpekuplobhdfoo\""
   ]
  },
  {
   "cell_type": "code",
   "execution_count": 7,
   "metadata": {},
   "outputs": [
    {
     "data": {
      "text/plain": [
       "('Jo', 'oo')"
      ]
     },
     "execution_count": 7,
     "metadata": {},
     "output_type": "execute_result"
    }
   ],
   "source": [
    "char[:2],char[-2:]"
   ]
  },
  {
   "cell_type": "code",
   "execution_count": null,
   "metadata": {},
   "outputs": [],
   "source": [
    "3"
   ]
  },
  {
   "cell_type": "code",
   "execution_count": 8,
   "metadata": {},
   "outputs": [
    {
     "name": "stdout",
     "output_type": "stream",
     "text": [
      "imoh\n",
      "joseph\n"
     ]
    }
   ],
   "source": [
    "a =\"imoh\"\n",
    "b = \"joseph\"\n",
    "print(a)\n",
    "print(b)"
   ]
  },
  {
   "cell_type": "code",
   "execution_count": 9,
   "metadata": {},
   "outputs": [
    {
     "name": "stdout",
     "output_type": "stream",
     "text": [
      "jooh imseph\n"
     ]
    }
   ],
   "source": [
    "newA = b[:2] + a[2:]\n",
    "newB = a[:2] + b[2:]\n",
    "print(newA,newB)"
   ]
  },
  {
   "cell_type": "code",
   "execution_count": null,
   "metadata": {},
   "outputs": [],
   "source": [
    "4."
   ]
  },
  {
   "cell_type": "code",
   "execution_count": 23,
   "metadata": {},
   "outputs": [
    {
     "name": "stdout",
     "output_type": "stream",
     "text": [
      "please enter a list of words: Nigeria Dublin Budapest\n"
     ]
    }
   ],
   "source": [
    "text = input(\"please enter a list of words: \")\n"
   ]
  },
  {
   "cell_type": "code",
   "execution_count": 24,
   "metadata": {},
   "outputs": [
    {
     "name": "stdout",
     "output_type": "stream",
     "text": [
      "The longest word is Budapest\n",
      "The length:  8\n"
     ]
    }
   ],
   "source": [
    "longest = 0;\n",
    "for words in text.split():\n",
    "    if len(words) > longest:\n",
    "          longest = len(words)\n",
    "print(\"The longest word is\", words,) \n",
    "print(\"The length: \", longest,)"
   ]
  },
  {
   "cell_type": "code",
   "execution_count": null,
   "metadata": {},
   "outputs": [],
   "source": [
    "SECTION B (DICTS)"
   ]
  },
  {
   "cell_type": "code",
   "execution_count": null,
   "metadata": {},
   "outputs": [],
   "source": [
    "1."
   ]
  },
  {
   "cell_type": "code",
   "execution_count": 30,
   "metadata": {},
   "outputs": [],
   "source": [
    "import math\n"
   ]
  },
  {
   "cell_type": "code",
   "execution_count": 12,
   "metadata": {},
   "outputs": [
    {
     "name": "stdout",
     "output_type": "stream",
     "text": [
      "{1: 1, 2: 4, 3: 9, 4: 16, 5: 25, 6: 36, 7: 49, 8: 64, 9: 81, 10: 100, 11: 121, 12: 144, 13: 169, 14: 196, 15: 225}\n"
     ]
    }
   ],
   "source": [
    "h = dict()\n",
    "for x in range (1,16):\n",
    "    h[x]=x**2\n",
    "print(h)"
   ]
  },
  {
   "cell_type": "code",
   "execution_count": null,
   "metadata": {},
   "outputs": [],
   "source": [
    "2."
   ]
  },
  {
   "cell_type": "code",
   "execution_count": 13,
   "metadata": {},
   "outputs": [
    {
     "name": "stdout",
     "output_type": "stream",
     "text": [
      "1240\n"
     ]
    }
   ],
   "source": [
    "dict.values(h)\n",
    "print(sum(h.values()))"
   ]
  },
  {
   "cell_type": "code",
   "execution_count": null,
   "metadata": {},
   "outputs": [],
   "source": [
    "3."
   ]
  },
  {
   "cell_type": "code",
   "execution_count": 1,
   "metadata": {},
   "outputs": [],
   "source": [
    "d= {'x':500,'y':5874,'z':560}"
   ]
  },
  {
   "cell_type": "code",
   "execution_count": 5,
   "metadata": {},
   "outputs": [
    {
     "name": "stdout",
     "output_type": "stream",
     "text": [
      "The sample_dict = {'x': 500, 'y': 5874, 'z': 560}\n",
      "The max is = 5874\n",
      "The min is = 500\n"
     ]
    }
   ],
   "source": [
    "\n",
    "A=max(d.values())\n",
    "B=min(d.values())\n",
    "print(\"The sample_dict =\",d)\n",
    "print(\"The max is =\", A)\n",
    "print(\"The min is =\", B)\n"
   ]
  },
  {
   "cell_type": "code",
   "execution_count": null,
   "metadata": {},
   "outputs": [],
   "source": [
    "4."
   ]
  },
  {
   "cell_type": "code",
   "execution_count": null,
   "metadata": {},
   "outputs": [],
   "source": [
    "dict.values\n",
    "A = input(\"please Enter name\")\n",
    "B = input(\"please enter phone number\")\n",
    "C = input(\"please enter Email\")\n",
    "D = input(\"please enter Date of birth\")"
   ]
  },
  {
   "cell_type": "code",
   "execution_count": null,
   "metadata": {},
   "outputs": [],
   "source": []
  },
  {
   "cell_type": "code",
   "execution_count": null,
   "metadata": {},
   "outputs": [],
   "source": []
  }
 ],
 "metadata": {
  "kernelspec": {
   "display_name": "Python 3",
   "language": "python",
   "name": "python3"
  },
  "language_info": {
   "codemirror_mode": {
    "name": "ipython",
    "version": 3
   },
   "file_extension": ".py",
   "mimetype": "text/x-python",
   "name": "python",
   "nbconvert_exporter": "python",
   "pygments_lexer": "ipython3",
   "version": "3.7.3"
  }
 },
 "nbformat": 4,
 "nbformat_minor": 2
}
